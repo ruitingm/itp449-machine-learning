{
  "nbformat": 4,
  "nbformat_minor": 0,
  "metadata": {
    "colab": {
      "name": "Ma_Maggie_Homework 7.ipynb",
      "provenance": [],
      "collapsed_sections": [
        "UDtpJLrCXdj-",
        "uaUqMhEPYqSF"
      ]
    },
    "kernelspec": {
      "name": "python3",
      "display_name": "Python 3"
    },
    "language_info": {
      "name": "python"
    }
  },
  "cells": [
    {
      "cell_type": "markdown",
      "metadata": {
        "id": "YEBNn7WNVVH9"
      },
      "source": [
        "# Homework 7 (30 marks)\n",
        "Create a copy of the notebook to start answering the questions. Name your notebook in the format HW7_lastname_firstname.ipynb to facilitate the grading process.\n",
        "\n",
        "Answer all the questions, test your code to ensure there are no errors and the results are as expected. Once you have answered all the questions, save the final copy, then go to File-> click on Download.ipynb. Once the local copy has been downloaded, submit your file on Blackboard under the corresponding assignment section. Also provide us a link to your notebook during submission.\n",
        "\n",
        "NOTE: Please give the TAs the permission to access your notebooks through the links you have provided during submission.\n",
        "\n",
        "The due date of this homework is 04/23/2021 (Friday).\n",
        "\n",
        "Please ensure you follow all the steps mentioned in the homework.\n",
        "\n",
        "You can submit your solutions any number of times until the deadline.\n",
        "\n",
        "The datasets used in this homework can be found in the google drive link below -\n",
        "\n",
        "https://drive.google.com/drive/folders/1NxCh4X7u7wVo5aHojxjLNs9wC7B7zJhb?usp=sharing\n",
        "\n",
        "Follow the necessary steps to import data to test your code. You can use any method to read your data in the notebook. We will not be grading the methods you use. We will only grade the code from the point where you read the dataset into a pandas dataframe - (pd.read_csv('file_name'))"
      ]
    },
    {
      "cell_type": "markdown",
      "metadata": {
        "id": "XNkmD9GdVx37"
      },
      "source": [
        "Import all the libraries you require in the cell below.\n"
      ]
    },
    {
      "cell_type": "code",
      "metadata": {
        "id": "O38dWgFrTt9g"
      },
      "source": [
        "import pandas as pd\n",
        "import numpy as np\n",
        "from sklearn.impute import SimpleImputer\n",
        "from sklearn.preprocessing import MinMaxScaler\n",
        "\n",
        "# Enter your code here\n",
        "from sklearn.model_selection import train_test_split\n",
        "from sklearn.dummy import DummyClassifier\n",
        "from sklearn.tree import DecisionTreeClassifier\n",
        "from sklearn.metrics import accuracy_score\n",
        "from sklearn.ensemble import (BaggingClassifier,  \n",
        "                              RandomForestClassifier,\n",
        "                              AdaBoostClassifier,\n",
        "                              VotingClassifier)\n",
        "from sklearn.svm import SVC\n",
        "from sklearn.linear_model import LogisticRegression"
      ],
      "execution_count": 1,
      "outputs": []
    },
    {
      "cell_type": "markdown",
      "metadata": {
        "id": "HggTkCZoWOSE"
      },
      "source": [
        "## Implement the Ensemble methods learnt in class and compare their accuarcies."
      ]
    },
    {
      "cell_type": "markdown",
      "metadata": {
        "id": "g-eAjVVDV_Nm"
      },
      "source": [
        "The dataset you are going to be using for homework is the **Wisconsin Breast Cancer dataset (cancer.csv)**\n",
        "\n",
        "The dataset contains a total number of 10 features labeled in either benign or malignant classes. The features have 699 instances out of which 16 feature values are missing. The dataset only contains numeric values.\n",
        "\n",
        "Attribute Information:\n",
        "\n",
        "1. Sample code number: id number\n",
        "2. Clump Thickness: 1 - 10\n",
        "3. Uniformity of Cell Size: 1 - 10\n",
        "4. Uniformity of Cell Shape: 1 - 10\n",
        "5. Marginal Adhesion: 1 - 10\n",
        "6. Single Epithelial Cell Size: 1 - 10\n",
        "7. Bare Nuclei: 1 - 10\n",
        "8. Bland Chromatin: 1 - 10\n",
        "9. Normal Nucleoli: 1 - 10\n",
        "10. Mitoses: 1 - 10\n",
        "11. Class: (2 for benign, 4 for malignant) (**target variable**)\n",
        "\n",
        "For more information: https://archive.ics.uci.edu/ml/datasets/breast+cancer+wisconsin+(original)"
      ]
    },
    {
      "cell_type": "markdown",
      "metadata": {
        "id": "g3iLZY-gXhVH"
      },
      "source": [
        "### 1. Read the dataset into variable called '**data**' (1 mark)"
      ]
    },
    {
      "cell_type": "code",
      "metadata": {
        "id": "U2II5L3AXn2A",
        "colab": {
          "base_uri": "https://localhost:8080/",
          "height": 221
        },
        "outputId": "40bc93e0-830e-4ce8-b536-c8418d88663f"
      },
      "source": [
        "pd.set_option('display.max_columns', 100)\n",
        "# Enter your code here\n",
        "data = pd.read_csv('cancer.csv')\n",
        "data.head()"
      ],
      "execution_count": 2,
      "outputs": [
        {
          "output_type": "execute_result",
          "data": {
            "text/html": [
              "<div>\n",
              "<style scoped>\n",
              "    .dataframe tbody tr th:only-of-type {\n",
              "        vertical-align: middle;\n",
              "    }\n",
              "\n",
              "    .dataframe tbody tr th {\n",
              "        vertical-align: top;\n",
              "    }\n",
              "\n",
              "    .dataframe thead th {\n",
              "        text-align: right;\n",
              "    }\n",
              "</style>\n",
              "<table border=\"1\" class=\"dataframe\">\n",
              "  <thead>\n",
              "    <tr style=\"text-align: right;\">\n",
              "      <th></th>\n",
              "      <th>Sample Code Number</th>\n",
              "      <th>Clump Thickness</th>\n",
              "      <th>Uniformity of Cell Size</th>\n",
              "      <th>Uniformity of Cell Shape</th>\n",
              "      <th>Marginal Adhesion</th>\n",
              "      <th>Single Epithelial Cell Size</th>\n",
              "      <th>Bland Chromatin</th>\n",
              "      <th>Bare Nuclei</th>\n",
              "      <th>Normal Nucleoli</th>\n",
              "      <th>Mitosis</th>\n",
              "      <th>Class</th>\n",
              "    </tr>\n",
              "  </thead>\n",
              "  <tbody>\n",
              "    <tr>\n",
              "      <th>0</th>\n",
              "      <td>1000025</td>\n",
              "      <td>5</td>\n",
              "      <td>1</td>\n",
              "      <td>1</td>\n",
              "      <td>1</td>\n",
              "      <td>2</td>\n",
              "      <td>1</td>\n",
              "      <td>3</td>\n",
              "      <td>1</td>\n",
              "      <td>1</td>\n",
              "      <td>2</td>\n",
              "    </tr>\n",
              "    <tr>\n",
              "      <th>1</th>\n",
              "      <td>1002945</td>\n",
              "      <td>5</td>\n",
              "      <td>4</td>\n",
              "      <td>4</td>\n",
              "      <td>5</td>\n",
              "      <td>7</td>\n",
              "      <td>10</td>\n",
              "      <td>3</td>\n",
              "      <td>2</td>\n",
              "      <td>1</td>\n",
              "      <td>2</td>\n",
              "    </tr>\n",
              "    <tr>\n",
              "      <th>2</th>\n",
              "      <td>1015425</td>\n",
              "      <td>3</td>\n",
              "      <td>1</td>\n",
              "      <td>1</td>\n",
              "      <td>1</td>\n",
              "      <td>2</td>\n",
              "      <td>2</td>\n",
              "      <td>3</td>\n",
              "      <td>1</td>\n",
              "      <td>1</td>\n",
              "      <td>2</td>\n",
              "    </tr>\n",
              "    <tr>\n",
              "      <th>3</th>\n",
              "      <td>1016277</td>\n",
              "      <td>6</td>\n",
              "      <td>8</td>\n",
              "      <td>8</td>\n",
              "      <td>1</td>\n",
              "      <td>3</td>\n",
              "      <td>4</td>\n",
              "      <td>3</td>\n",
              "      <td>7</td>\n",
              "      <td>1</td>\n",
              "      <td>2</td>\n",
              "    </tr>\n",
              "    <tr>\n",
              "      <th>4</th>\n",
              "      <td>1017023</td>\n",
              "      <td>4</td>\n",
              "      <td>1</td>\n",
              "      <td>1</td>\n",
              "      <td>3</td>\n",
              "      <td>2</td>\n",
              "      <td>1</td>\n",
              "      <td>3</td>\n",
              "      <td>1</td>\n",
              "      <td>1</td>\n",
              "      <td>2</td>\n",
              "    </tr>\n",
              "  </tbody>\n",
              "</table>\n",
              "</div>"
            ],
            "text/plain": [
              "   Sample Code Number  Clump Thickness  Uniformity of Cell Size   \\\n",
              "0             1000025                5                         1   \n",
              "1             1002945                5                         4   \n",
              "2             1015425                3                         1   \n",
              "3             1016277                6                         8   \n",
              "4             1017023                4                         1   \n",
              "\n",
              "   Uniformity of Cell Shape  Marginal Adhesion  Single Epithelial Cell Size  \\\n",
              "0                         1                  1                            2   \n",
              "1                         4                  5                            7   \n",
              "2                         1                  1                            2   \n",
              "3                         8                  1                            3   \n",
              "4                         1                  3                            2   \n",
              "\n",
              "  Bland Chromatin  Bare Nuclei  Normal Nucleoli  Mitosis  Class  \n",
              "0               1            3                1        1      2  \n",
              "1              10            3                2        1      2  \n",
              "2               2            3                1        1      2  \n",
              "3               4            3                7        1      2  \n",
              "4               1            3                1        1      2  "
            ]
          },
          "metadata": {
            "tags": []
          },
          "execution_count": 2
        }
      ]
    },
    {
      "cell_type": "markdown",
      "metadata": {
        "id": "7DvQpJcMXRd0"
      },
      "source": [
        "### **Preprocessing**: Data needs to be preprocessed before implementing ensemble methods. It is done for you here. \n",
        "### Run the below code first and then answer the questions from 2 - 7."
      ]
    },
    {
      "cell_type": "markdown",
      "metadata": {
        "id": "UDtpJLrCXdj-"
      },
      "source": [
        "#### Deleting unnecessary columns: The column \"Sample code number\" is just an indicator and it's of no use in the modeling. So, let's drop it:\n"
      ]
    },
    {
      "cell_type": "code",
      "metadata": {
        "id": "3bbOI9AYTziJ"
      },
      "source": [
        "data.drop(['Sample Code Number'],axis = 1, inplace = True)"
      ],
      "execution_count": 3,
      "outputs": []
    },
    {
      "cell_type": "markdown",
      "metadata": {
        "id": "uaUqMhEPYqSF"
      },
      "source": [
        "#### Handling missing values : \n",
        "As mentioned earlier, the dataset contains missing values. The column named \"Bland Chromatin\" contains them. The missing values are represneted as \"?\". \n",
        "\n",
        "Replace those \"?\"s with 0's and impute them with Mean Imputation"
      ]
    },
    {
      "cell_type": "code",
      "metadata": {
        "id": "cHu_DIDcZs_8",
        "colab": {
          "base_uri": "https://localhost:8080/"
        },
        "outputId": "1aa45546-948d-44bc-ad92-0e61137df1d5"
      },
      "source": [
        "data['Bland Chromatin']"
      ],
      "execution_count": 4,
      "outputs": [
        {
          "output_type": "execute_result",
          "data": {
            "text/plain": [
              "0       1\n",
              "1      10\n",
              "2       2\n",
              "3       4\n",
              "4       1\n",
              "       ..\n",
              "694     2\n",
              "695     1\n",
              "696     3\n",
              "697     4\n",
              "698     5\n",
              "Name: Bland Chromatin, Length: 699, dtype: object"
            ]
          },
          "metadata": {
            "tags": []
          },
          "execution_count": 4
        }
      ]
    },
    {
      "cell_type": "code",
      "metadata": {
        "id": "u_5GSsVjU930"
      },
      "source": [
        "data.replace('?',0, inplace=True)"
      ],
      "execution_count": 5,
      "outputs": []
    },
    {
      "cell_type": "code",
      "metadata": {
        "id": "LV3PVQB0U_mF"
      },
      "source": [
        "# Convert the DataFrame object into NumPy array otherwise you will not be able to impute\n",
        "values = data.values\n",
        "# Now impute it\n",
        "imputer = SimpleImputer(missing_values=np.nan, strategy='mean')\n",
        "imputedData = imputer.fit_transform(values)"
      ],
      "execution_count": 6,
      "outputs": []
    },
    {
      "cell_type": "markdown",
      "metadata": {
        "id": "TC9xxX-MaJiJ"
      },
      "source": [
        "#### Normalizing the data:\n",
        "Ranges of the features of the dataset are not the same. This may cause a problem. A small change in a feature might not affect the other. To address this problem, normalize the ranges of the features to a uniform range, in this case, 0 - 1."
      ]
    },
    {
      "cell_type": "code",
      "metadata": {
        "id": "VomHojxET85c",
        "colab": {
          "base_uri": "https://localhost:8080/",
          "height": 221
        },
        "outputId": "1bcc0fe9-1e05-497c-d38b-8819e3e3240e"
      },
      "source": [
        "scaler = MinMaxScaler(feature_range=(0, 1))\n",
        "normalizedData = scaler.fit_transform(imputedData)\n",
        "cols = ['Clump Thickness', 'Uniformity of Cell Size', 'Uniformity of Cell Shape', 'Marginal Adhesion', 'Single Epithelial Cell Size', 'Bland Chromatin', 'Bare Nuclei', 'Normal Nucleoli', 'Mitosis','Class']\n",
        "normalizedData = pd.DataFrame(normalizedData, columns=cols)\n",
        "normalizedData.head()"
      ],
      "execution_count": 7,
      "outputs": [
        {
          "output_type": "execute_result",
          "data": {
            "text/html": [
              "<div>\n",
              "<style scoped>\n",
              "    .dataframe tbody tr th:only-of-type {\n",
              "        vertical-align: middle;\n",
              "    }\n",
              "\n",
              "    .dataframe tbody tr th {\n",
              "        vertical-align: top;\n",
              "    }\n",
              "\n",
              "    .dataframe thead th {\n",
              "        text-align: right;\n",
              "    }\n",
              "</style>\n",
              "<table border=\"1\" class=\"dataframe\">\n",
              "  <thead>\n",
              "    <tr style=\"text-align: right;\">\n",
              "      <th></th>\n",
              "      <th>Clump Thickness</th>\n",
              "      <th>Uniformity of Cell Size</th>\n",
              "      <th>Uniformity of Cell Shape</th>\n",
              "      <th>Marginal Adhesion</th>\n",
              "      <th>Single Epithelial Cell Size</th>\n",
              "      <th>Bland Chromatin</th>\n",
              "      <th>Bare Nuclei</th>\n",
              "      <th>Normal Nucleoli</th>\n",
              "      <th>Mitosis</th>\n",
              "      <th>Class</th>\n",
              "    </tr>\n",
              "  </thead>\n",
              "  <tbody>\n",
              "    <tr>\n",
              "      <th>0</th>\n",
              "      <td>0.444444</td>\n",
              "      <td>0.000000</td>\n",
              "      <td>0.000000</td>\n",
              "      <td>0.000000</td>\n",
              "      <td>0.111111</td>\n",
              "      <td>0.1</td>\n",
              "      <td>0.222222</td>\n",
              "      <td>0.000000</td>\n",
              "      <td>0.0</td>\n",
              "      <td>0.0</td>\n",
              "    </tr>\n",
              "    <tr>\n",
              "      <th>1</th>\n",
              "      <td>0.444444</td>\n",
              "      <td>0.333333</td>\n",
              "      <td>0.333333</td>\n",
              "      <td>0.444444</td>\n",
              "      <td>0.666667</td>\n",
              "      <td>1.0</td>\n",
              "      <td>0.222222</td>\n",
              "      <td>0.111111</td>\n",
              "      <td>0.0</td>\n",
              "      <td>0.0</td>\n",
              "    </tr>\n",
              "    <tr>\n",
              "      <th>2</th>\n",
              "      <td>0.222222</td>\n",
              "      <td>0.000000</td>\n",
              "      <td>0.000000</td>\n",
              "      <td>0.000000</td>\n",
              "      <td>0.111111</td>\n",
              "      <td>0.2</td>\n",
              "      <td>0.222222</td>\n",
              "      <td>0.000000</td>\n",
              "      <td>0.0</td>\n",
              "      <td>0.0</td>\n",
              "    </tr>\n",
              "    <tr>\n",
              "      <th>3</th>\n",
              "      <td>0.555556</td>\n",
              "      <td>0.777778</td>\n",
              "      <td>0.777778</td>\n",
              "      <td>0.000000</td>\n",
              "      <td>0.222222</td>\n",
              "      <td>0.4</td>\n",
              "      <td>0.222222</td>\n",
              "      <td>0.666667</td>\n",
              "      <td>0.0</td>\n",
              "      <td>0.0</td>\n",
              "    </tr>\n",
              "    <tr>\n",
              "      <th>4</th>\n",
              "      <td>0.333333</td>\n",
              "      <td>0.000000</td>\n",
              "      <td>0.000000</td>\n",
              "      <td>0.222222</td>\n",
              "      <td>0.111111</td>\n",
              "      <td>0.1</td>\n",
              "      <td>0.222222</td>\n",
              "      <td>0.000000</td>\n",
              "      <td>0.0</td>\n",
              "      <td>0.0</td>\n",
              "    </tr>\n",
              "  </tbody>\n",
              "</table>\n",
              "</div>"
            ],
            "text/plain": [
              "   Clump Thickness  Uniformity of Cell Size  Uniformity of Cell Shape  \\\n",
              "0         0.444444                 0.000000                  0.000000   \n",
              "1         0.444444                 0.333333                  0.333333   \n",
              "2         0.222222                 0.000000                  0.000000   \n",
              "3         0.555556                 0.777778                  0.777778   \n",
              "4         0.333333                 0.000000                  0.000000   \n",
              "\n",
              "   Marginal Adhesion  Single Epithelial Cell Size  Bland Chromatin  \\\n",
              "0           0.000000                     0.111111              0.1   \n",
              "1           0.444444                     0.666667              1.0   \n",
              "2           0.000000                     0.111111              0.2   \n",
              "3           0.000000                     0.222222              0.4   \n",
              "4           0.222222                     0.111111              0.1   \n",
              "\n",
              "   Bare Nuclei  Normal Nucleoli  Mitosis  Class  \n",
              "0     0.222222         0.000000      0.0    0.0  \n",
              "1     0.222222         0.111111      0.0    0.0  \n",
              "2     0.222222         0.000000      0.0    0.0  \n",
              "3     0.222222         0.666667      0.0    0.0  \n",
              "4     0.222222         0.000000      0.0    0.0  "
            ]
          },
          "metadata": {
            "tags": []
          },
          "execution_count": 7
        }
      ]
    },
    {
      "cell_type": "markdown",
      "metadata": {
        "id": "Sb2YjZckaZ2-"
      },
      "source": [
        "### Data preprocessing is done and now you will answer the below questions using the **normalizedData**: "
      ]
    },
    {
      "cell_type": "markdown",
      "metadata": {
        "id": "Cq2ChemrbDz2"
      },
      "source": [
        "### 2. Split the data into test and training data with test size - 30%. Compute the baseline classification accuracy for X_train. (3 marks)"
      ]
    },
    {
      "cell_type": "code",
      "metadata": {
        "id": "gOshE9K_UA5S",
        "colab": {
          "base_uri": "https://localhost:8080/"
        },
        "outputId": "36fc0c2f-d636-4e39-cbe5-10e97ce5db5f"
      },
      "source": [
        "# Enter your code here\n",
        "X = normalizedData.iloc[:, :9]\n",
        "y = normalizedData.iloc[:, 9]\n",
        "# Split data\n",
        "X_train, X_test, y_train, y_test = train_test_split(X, y, test_size=0.3, random_state=42)\n",
        "dummyClf = DummyClassifier(strategy='most_frequent')\n",
        "dummyClf.fit(X_train,y_train)\n",
        "baseline_acc = dummyClf.score(X_test,y_test)\n",
        "print(\"Baseline Accuracy =\", baseline_acc)"
      ],
      "execution_count": 8,
      "outputs": [
        {
          "output_type": "stream",
          "text": [
            "Baseline Accuracy = 0.680952380952381\n"
          ],
          "name": "stdout"
        }
      ]
    },
    {
      "cell_type": "markdown",
      "metadata": {
        "id": "J3RUF9RvgA-N"
      },
      "source": [
        "### 3.  Bagging : Build a generic Bagging ensemble and print the accuracy (4 marks)\n",
        "---\n",
        "\n",
        "\n",
        "Hyperparameters:\n",
        "\n",
        "Base estimator = DecisionTreeClassifier\n",
        "\n",
        "n_estimators = 10\n",
        "\n",
        "random_state = 42\n",
        "\n",
        "---\n"
      ]
    },
    {
      "cell_type": "code",
      "metadata": {
        "id": "C78-znrIUDcs",
        "colab": {
          "base_uri": "https://localhost:8080/"
        },
        "outputId": "816ccc10-0859-4010-d661-3431369dc5c4"
      },
      "source": [
        "# Generic Bagging model\n",
        "# Enter your code here\n",
        "'''\n",
        "I am not sure if I should do this,\n",
        "but I specified random seed of 42 for reproducibility although it is not mentioned\n",
        "'''\n",
        "base_Est = DecisionTreeClassifier()\n",
        "model_bagging = BaggingClassifier(base_Est, n_estimators=10, random_state=42)\n",
        "model_bagging.fit(X_train, y_train)\n",
        "pred_bagging = model_bagging.predict(X_test)\n",
        "acc_bagging = accuracy_score(y_test, pred_bagging)\n",
        "print(' Accuracy =', acc_bagging)"
      ],
      "execution_count": 9,
      "outputs": [
        {
          "output_type": "stream",
          "text": [
            " Accuracy = 0.9571428571428572\n"
          ],
          "name": "stdout"
        }
      ]
    },
    {
      "cell_type": "markdown",
      "metadata": {
        "id": "mlupszlqg6El"
      },
      "source": [
        "### 4. RandomForest : (7 marks)\n",
        "#### a) Build a Random Forest model and print the accuracy (4 marks)\n",
        "---\n",
        "\n",
        "Constructor arguments: \n",
        "\n",
        "\n",
        "n_estimators = 100, max_features = 7 and random_state = 42 \n",
        "\n",
        "\n",
        "---\n",
        "\n",
        "\n"
      ]
    },
    {
      "cell_type": "code",
      "metadata": {
        "colab": {
          "base_uri": "https://localhost:8080/"
        },
        "id": "TagawD02hKlF",
        "outputId": "27a322a2-a5e1-44d8-921b-39aa4cf50ea9"
      },
      "source": [
        "# Random Forest model\n",
        "# Enter your code here\n",
        "model_rf = RandomForestClassifier(n_estimators=100, max_features=7, random_state=42)\n",
        "model_rf.fit(X_train, y_train)\n",
        "predict_rf = model_rf.predict(X_test)\n",
        "acc_rf = accuracy_score(y_test, predict_rf)\n",
        "print('Accuracy =', acc_rf)"
      ],
      "execution_count": 10,
      "outputs": [
        {
          "output_type": "stream",
          "text": [
            "Accuracy = 0.9619047619047619\n"
          ],
          "name": "stdout"
        }
      ]
    },
    {
      "cell_type": "markdown",
      "metadata": {
        "id": "48iH9eV8xkbE"
      },
      "source": [
        "####  b) Calculate the top 3 important features for the above **RandomForest** model and print them (3 marks)"
      ]
    },
    {
      "cell_type": "code",
      "metadata": {
        "id": "M469DqsQxlFN",
        "colab": {
          "base_uri": "https://localhost:8080/"
        },
        "outputId": "1feac630-e33f-43ea-bc32-cb9c49fd56cb"
      },
      "source": [
        "# Top 3 features for RandomForest\n",
        "# Enter your code here\n",
        "imp_rf = pd.DataFrame(zip(X_train.columns, model_rf.feature_importances_), columns=['feature', 'importance'])\n",
        "print(imp_rf.sort_values(by='importance', ascending=False)[:3])"
      ],
      "execution_count": 11,
      "outputs": [
        {
          "output_type": "stream",
          "text": [
            "                    feature  importance\n",
            "1   Uniformity of Cell Size    0.396144\n",
            "2  Uniformity of Cell Shape    0.249673\n",
            "5           Bland Chromatin    0.176869\n"
          ],
          "name": "stdout"
        }
      ]
    },
    {
      "cell_type": "markdown",
      "metadata": {
        "id": "rnrkSasYh6gF"
      },
      "source": [
        "### 5. Boosting: (7 marks)\n",
        "#### a) Build an AdaBoost model with training data and print the accuracy (4 marks)\n",
        "---\n",
        "\n",
        "Hyperparameters:\n",
        "\n",
        "Base estimator = DecisionTreeClassifier, max_depth = 4\n",
        "\n",
        "n_estimators = 200\n",
        "\n",
        "random_state = 42\n",
        "\n",
        "learning_rate = 0.05\n",
        "\n",
        "\n",
        "---\n",
        "\n",
        "\n",
        "\n",
        "\n",
        "\n",
        "\n",
        "\n"
      ]
    },
    {
      "cell_type": "code",
      "metadata": {
        "id": "DQIzaUjWUHv7",
        "colab": {
          "base_uri": "https://localhost:8080/"
        },
        "outputId": "6fb6218e-b2a5-4a00-a0d4-ec1edc0306df"
      },
      "source": [
        "# AdaBoost Classification\n",
        "# Enter your code here\n",
        "base_est = DecisionTreeClassifier(max_depth=4)\n",
        "ada_boost = AdaBoostClassifier(base_est, n_estimators=200, random_state=42, learning_rate=0.05)\n",
        "ada_boost.fit(X_train, y_train)\n",
        "predict_ab = ada_boost.predict(X_test)\n",
        "acc_ab = accuracy_score(y_test, predict_ab)\n",
        "print('Accuracy =', acc_ab)"
      ],
      "execution_count": 12,
      "outputs": [
        {
          "output_type": "stream",
          "text": [
            "Accuracy = 0.9619047619047619\n"
          ],
          "name": "stdout"
        }
      ]
    },
    {
      "cell_type": "markdown",
      "metadata": {
        "id": "usBQDazfw2L1"
      },
      "source": [
        "#### b) Calculate the top 3 important features for the above **AdaBoost** model and print them (3 marks)"
      ]
    },
    {
      "cell_type": "code",
      "metadata": {
        "id": "jbEUjwQRw3rW",
        "colab": {
          "base_uri": "https://localhost:8080/"
        },
        "outputId": "983112d0-3c33-4b33-da4f-cb88a3fd8530"
      },
      "source": [
        "# Top 3 features for AdaBoost\n",
        "# Enter your code here\n",
        "imp_ab = pd.DataFrame(zip(X_train.columns, ada_boost.feature_importances_), columns=['feature', 'importance'])\n",
        "print(imp_ab.sort_values(by='importance', ascending=False)[:3])"
      ],
      "execution_count": 13,
      "outputs": [
        {
          "output_type": "stream",
          "text": [
            "           feature  importance\n",
            "0  Clump Thickness    0.194416\n",
            "6      Bare Nuclei    0.190325\n",
            "5  Bland Chromatin    0.142676\n"
          ],
          "name": "stdout"
        }
      ]
    },
    {
      "cell_type": "markdown",
      "metadata": {
        "id": "zMpdvP7ZjAOt"
      },
      "source": [
        "### 6. Voting : Using a voting classifier, build an ensemble of RandomForestClassifier, DecisionTreeClassifier, Support Vector Machine and Logistic Regression. (7 marks)\n",
        "\n",
        "\n",
        "---\n",
        "\n",
        "\n",
        "Use max_depth = 4, n_estimators = 200, voting = soft"
      ]
    },
    {
      "cell_type": "code",
      "metadata": {
        "id": "3M3ZIcrqUKjK",
        "colab": {
          "base_uri": "https://localhost:8080/"
        },
        "outputId": "aa29fffd-3a4c-4efd-8626-a5b9872c9c38"
      },
      "source": [
        "# Voting Ensemble for Classification\n",
        "# Enter your code here\n",
        "'''\n",
        "I am not sure if I should specify random state for this question, \n",
        "but I did specificy random state = 42 in all of them for the sake of reproducibility\n",
        "'''\n",
        "rfClf = RandomForestClassifier(max_depth=4, n_estimators=200, random_state=42)\n",
        "dtClf = DecisionTreeClassifier(max_depth=4, random_state=42)\n",
        "svmClf = SVC(probability=True, random_state=42)\n",
        "logClf = LogisticRegression(random_state=42)\n",
        "vClf = VotingClassifier(estimators = [('rf',rfClf), ('dt',dtClf), ('svm',svmClf), ('log', logClf)], voting='soft') \n",
        "vClf.fit(X_train, y_train)\n",
        "vClf_pred = vClf.predict(X_test)\n",
        "acc_vClf = accuracy_score(y_test, vClf_pred)\n",
        "print('Accuracy =', acc_vClf)"
      ],
      "execution_count": 14,
      "outputs": [
        {
          "output_type": "stream",
          "text": [
            "Accuracy = 0.9666666666666667\n"
          ],
          "name": "stdout"
        }
      ]
    },
    {
      "cell_type": "markdown",
      "metadata": {
        "id": "Wj2CVbBYVTun"
      },
      "source": [
        "### 7. Mention the best model among the above 4 models and its accuracy (1 mark)"
      ]
    },
    {
      "cell_type": "code",
      "metadata": {
        "id": "gj09m4z_lXNB",
        "colab": {
          "base_uri": "https://localhost:8080/"
        },
        "outputId": "a74edf62-75a1-4876-ac44-21199bdb9c6e"
      },
      "source": [
        "# Write your answer here\n",
        "print('The best model is Voting.\\nThe accuracy for voting is', acc_vClf)"
      ],
      "execution_count": 15,
      "outputs": [
        {
          "output_type": "stream",
          "text": [
            "The best model is Voting.\n",
            "The accuracy for voting is 0.9666666666666667\n"
          ],
          "name": "stdout"
        }
      ]
    }
  ]
}